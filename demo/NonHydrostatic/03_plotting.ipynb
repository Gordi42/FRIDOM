{
 "cells": [
  {
   "cell_type": "code",
   "execution_count": null,
   "metadata": {},
   "outputs": [],
   "source": [
    "import sys, os\n",
    "sys.path.append(os.path.abspath('../..'))\n",
    "import fridom.NonHydrostatic as fr"
   ]
  },
  {
   "cell_type": "markdown",
   "metadata": {},
   "source": [
    "# Plotting Field Variables\n",
    "Field variables have a built-in plotting for quick visualization. For more advanced plotting, standard Python packages such as matplotlib can be used."
   ]
  },
  {
   "cell_type": "markdown",
   "metadata": {},
   "source": [
    "## The plot object\n",
    "A plot object can be created from any field variable by getting the `.plot` attribute. From the plot object, we can create section plots of the field variable, or a 3D interactive volume plot."
   ]
  },
  {
   "cell_type": "code",
   "execution_count": null,
   "metadata": {},
   "outputs": [],
   "source": [
    "# create a field to plot\n",
    "mset = fr.ModelSettings(gpu=True)\n",
    "grid = fr.Grid(mset)\n",
    "z_wave = fr.InitialConditions.SingleWave(mset, grid)\n",
    "\n",
    "# get a plot object of the buoyancy field\n",
    "plot_buoyancy = fr.Plot(z_wave.b)"
   ]
  },
  {
   "cell_type": "markdown",
   "metadata": {},
   "source": [
    "## Front Section"
   ]
  },
  {
   "cell_type": "code",
   "execution_count": null,
   "metadata": {},
   "outputs": [],
   "source": [
    "plot_buoyancy.front()\n",
    "# optional arguments:\n",
    "#   state: state vector to also plot the velocity field\n",
    "#   y    : y coordinate of the section (float, default: 0)\n",
    "#   yi   : y coordinate index of the section (int)\n",
    "#   cmin : minimum value of the colormap\n",
    "#   cmax : maximum value of the colormap \n",
    "#   cmap : colormap (matplotlib colormaps)\n",
    "#   vmax : velocity of one arrow length unit\n",
    "#   fig  : matplotlib figure object to plot on"
   ]
  },
  {
   "cell_type": "markdown",
   "metadata": {},
   "source": [
    "## Top section\n",
    "For all the section plots, the velocity field can be plotted when giving the state vector as an argument."
   ]
  },
  {
   "cell_type": "code",
   "execution_count": null,
   "metadata": {},
   "outputs": [],
   "source": [
    "plot_buoyancy.top(state=z_wave)\n",
    "# same optional arguments as above (but z instead of y)"
   ]
  },
  {
   "cell_type": "markdown",
   "metadata": {},
   "source": [
    "## Side section\n",
    "The full plot can be done in one line:"
   ]
  },
  {
   "cell_type": "code",
   "execution_count": null,
   "metadata": {},
   "outputs": [],
   "source": [
    "fr.Plot(z_wave.b).side(state=z_wave)\n",
    "# same optional arguments as above (but x as the coordinate selection)"
   ]
  },
  {
   "cell_type": "markdown",
   "metadata": {},
   "source": [
    "## All sections combined\n",
    "Plot the kinetic energy of the Jet initial state\n"
   ]
  },
  {
   "cell_type": "code",
   "execution_count": null,
   "metadata": {},
   "outputs": [],
   "source": [
    "mset_copy = mset.copy()\n",
    "mset_copy.L = [4, 4, 1]\n",
    "\n",
    "z_jet = fr.InitialConditions.Jet(mset_copy, fr.Grid(mset_copy), geo_proj=True)\n",
    "fr.Plot(z_jet.u).sec(y = 0.9, x=2)\n",
    "# optional arguments the same as above"
   ]
  },
  {
   "cell_type": "markdown",
   "metadata": {},
   "source": [
    "## 3D Volume plot"
   ]
  },
  {
   "cell_type": "code",
   "execution_count": null,
   "metadata": {},
   "outputs": [],
   "source": [
    "fr.Plot(z_jet.pot_vort()).vol()\n",
    "# optional arguments:\n",
    "#   cmax    : maximum value of the colormap\n",
    "#   cmin    : minimum value of the colormap\n",
    "#   cmap    : colormap (matplotlib colormaps)\n",
    "#   opacity : opacity of the volume plot (float, default: 0.8)\n",
    "#   fig     : plotly figure object to plot in (default: new figure)\n",
    "#   show    : show the figure (default: True)"
   ]
  }
 ],
 "metadata": {
  "kernelspec": {
   "display_name": "cupy",
   "language": "python",
   "name": "python3"
  },
  "language_info": {
   "codemirror_mode": {
    "name": "ipython",
    "version": 3
   },
   "file_extension": ".py",
   "mimetype": "text/x-python",
   "name": "python",
   "nbconvert_exporter": "python",
   "pygments_lexer": "ipython3",
   "version": "3.9.18"
  },
  "orig_nbformat": 4
 },
 "nbformat": 4,
 "nbformat_minor": 2
}

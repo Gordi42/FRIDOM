{
 "cells": [
  {
   "cell_type": "code",
   "execution_count": null,
   "metadata": {},
   "outputs": [],
   "source": [
    "import sys, os\n",
    "sys.path.append(os.path.abspath('../..'))"
   ]
  },
  {
   "cell_type": "markdown",
   "metadata": {},
   "source": [
    "# GPU Acceleration\n",
    "GPU Acceleration is turned on by default if cupy is installed. For instructions on how to install cupy, see the README.md file. It can be turned off in the Model Settings:"
   ]
  },
  {
   "cell_type": "code",
   "execution_count": null,
   "metadata": {},
   "outputs": [],
   "source": [
    "# load modules\n",
    "from fridom.NonHydrostatic.ModelSettings import ModelSettings\n",
    "from fridom.NonHydrostatic.Grid import Grid\n",
    "from fridom.NonHydrostatic.Model import Model\n",
    "from fridom.NonHydrostatic.InitialConditions import SingleWave"
   ]
  },
  {
   "cell_type": "code",
   "execution_count": null,
   "metadata": {},
   "outputs": [],
   "source": [
    "# turning off GPU acceleration:\n",
    "mset = ModelSettings(gpu=False)\n",
    "grid = Grid(mset)\n",
    "model = Model(mset, grid)\n",
    "model.z = SingleWave(mset, grid)\n",
    "model.run(runlen=1)\n",
    "model.timer"
   ]
  },
  {
   "cell_type": "code",
   "execution_count": null,
   "metadata": {},
   "outputs": [],
   "source": [
    "# For comparison, here is the same code with GPU acceleration:\n",
    "mset = ModelSettings(gpu=True)\n",
    "grid = Grid(mset)\n",
    "model = Model(mset, grid)\n",
    "model.z = SingleWave(mset, grid)\n",
    "model.run(runlen=1)\n",
    "model.timer"
   ]
  },
  {
   "cell_type": "markdown",
   "metadata": {},
   "source": [
    "In this example, the code with gpu acceleration is not much faster then without. The advantage of gpu accelaration becomes visible at much larger Resolution, consider for example the same code as before but with a resolution of 512x512x128:"
   ]
  },
  {
   "cell_type": "code",
   "execution_count": null,
   "metadata": {},
   "outputs": [],
   "source": [
    "mset = ModelSettings(gpu=True, N=[2**9, 2**9, 2**7])\n",
    "grid = Grid(mset)\n",
    "model = Model(mset, grid)\n",
    "model.z = SingleWave(mset, grid)\n",
    "model.run(runlen=0.5)\n",
    "model.timer"
   ]
  }
 ],
 "metadata": {
  "kernelspec": {
   "display_name": "cupy",
   "language": "python",
   "name": "python3"
  },
  "language_info": {
   "codemirror_mode": {
    "name": "ipython",
    "version": 3
   },
   "file_extension": ".py",
   "mimetype": "text/x-python",
   "name": "python",
   "nbconvert_exporter": "python",
   "pygments_lexer": "ipython3",
   "version": "3.9.18"
  }
 },
 "nbformat": 4,
 "nbformat_minor": 2
}

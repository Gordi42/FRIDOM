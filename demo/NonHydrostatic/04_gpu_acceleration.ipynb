{
 "cells": [
  {
   "cell_type": "code",
   "execution_count": 1,
   "metadata": {},
   "outputs": [],
   "source": [
    "import sys, os\n",
    "sys.path.append(os.path.abspath('../..'))"
   ]
  },
  {
   "cell_type": "markdown",
   "metadata": {},
   "source": [
    "# GPU Acceleration\n",
    "GPU Acceleration is turned on by default if cupy is installed. For instructions on how to install cupy, see the README.md file. It can be turned off in the Model Settings:"
   ]
  },
  {
   "cell_type": "code",
   "execution_count": 2,
   "metadata": {},
   "outputs": [],
   "source": [
    "# load modules\n",
    "from fridom.NonHydrostatic.ModelSettings import ModelSettings\n",
    "from fridom.NonHydrostatic.Grid import Grid\n",
    "from fridom.NonHydrostatic.Model import Model\n",
    "from fridom.NonHydrostatic.InitialConditions import SingleWave"
   ]
  },
  {
   "cell_type": "code",
   "execution_count": 3,
   "metadata": {},
   "outputs": [
    {
     "name": "stderr",
     "output_type": "stream",
     "text": [
      "100%|██████████| 500/500 [00:22<00:00, 22.30it/s]\n"
     ]
    },
    {
     "data": {
      "text/plain": [
       "=====================================================\n",
       " Timing Summary: \n",
       "=====================================================\n",
       "Total Integration             : 00:00:22s   (100.0%)\n",
       "Diagnose                      : 00:00:00s   (0.0%)\n",
       "Write Snapshot                : 00:00:00s   (0.0%)\n",
       "Linear Tendency               : 00:00:01s   (8.1%)\n",
       "Nonlinear Tendency            : 00:00:08s   (37.8%)\n",
       "Harmonic Tendency             : 00:00:00s   (0.0%)\n",
       "Biharmonic Tendency           : 00:00:00s   (0.0%)\n",
       "Source Tendency               : 00:00:00s   (0.0%)\n",
       "Adam Bashforth Stepping       : 00:00:03s   (14.8%)\n",
       "Pressure Solve                : 00:00:07s   (33.7%)\n",
       "Pressure Gradient             : 00:00:01s   (5.0%)\n",
       "====================================================="
      ]
     },
     "execution_count": 3,
     "metadata": {},
     "output_type": "execute_result"
    }
   ],
   "source": [
    "# turning off GPU acceleration:\n",
    "mset = ModelSettings(gpu=False)\n",
    "grid = Grid(mset)\n",
    "model = Model(mset, grid)\n",
    "model.z = SingleWave(mset, grid)\n",
    "model.run(runlen=1)\n",
    "model.timer"
   ]
  },
  {
   "cell_type": "code",
   "execution_count": 4,
   "metadata": {},
   "outputs": [
    {
     "name": "stderr",
     "output_type": "stream",
     "text": [
      "100%|██████████| 500/500 [00:04<00:00, 120.65it/s]\n"
     ]
    },
    {
     "data": {
      "text/plain": [
       "=====================================================\n",
       " Timing Summary: \n",
       "=====================================================\n",
       "Total Integration             : 00:00:04s   (100.0%)\n",
       "Diagnose                      : 00:00:00s   (0.0%)\n",
       "Write Snapshot                : 00:00:00s   (0.0%)\n",
       "Linear Tendency               : 00:00:00s   (14.7%)\n",
       "Nonlinear Tendency            : 00:00:01s   (41.6%)\n",
       "Harmonic Tendency             : 00:00:00s   (0.0%)\n",
       "Biharmonic Tendency           : 00:00:00s   (0.0%)\n",
       "Source Tendency               : 00:00:00s   (0.0%)\n",
       "Adam Bashforth Stepping       : 00:00:00s   (20.1%)\n",
       "Pressure Solve                : 00:00:00s   (15.3%)\n",
       "Pressure Gradient             : 00:00:00s   (7.3%)\n",
       "====================================================="
      ]
     },
     "execution_count": 4,
     "metadata": {},
     "output_type": "execute_result"
    }
   ],
   "source": [
    "# For comparison, here is the same code with GPU acceleration:\n",
    "mset = ModelSettings(gpu=True)\n",
    "grid = Grid(mset)\n",
    "model = Model(mset, grid)\n",
    "model.z = SingleWave(mset, grid)\n",
    "model.run(runlen=1)\n",
    "model.timer"
   ]
  },
  {
   "cell_type": "markdown",
   "metadata": {},
   "source": [
    "In this example, the code with gpu acceleration is not much faster then without. The advantage of gpu accelaration becomes visible at much larger Resolution, consider for example the same code as before but with a resolution of 512x512x128:"
   ]
  },
  {
   "cell_type": "code",
   "execution_count": 5,
   "metadata": {},
   "outputs": [
    {
     "name": "stderr",
     "output_type": "stream",
     "text": [
      "100%|██████████| 250/250 [00:29<00:00,  8.38it/s]\n"
     ]
    },
    {
     "data": {
      "text/plain": [
       "=====================================================\n",
       " Timing Summary: \n",
       "=====================================================\n",
       "Total Integration             : 00:00:29s   (100.0%)\n",
       "Diagnose                      : 00:00:00s   (0.0%)\n",
       "Write Snapshot                : 00:00:00s   (0.0%)\n",
       "Linear Tendency               : 00:00:02s   (7.5%)\n",
       "Nonlinear Tendency            : 00:00:03s   (11.7%)\n",
       "Harmonic Tendency             : 00:00:00s   (0.0%)\n",
       "Biharmonic Tendency           : 00:00:00s   (0.0%)\n",
       "Source Tendency               : 00:00:00s   (0.0%)\n",
       "Adam Bashforth Stepping       : 00:00:00s   (1.4%)\n",
       "Pressure Solve                : 00:00:23s   (78.3%)\n",
       "Pressure Gradient             : 00:00:00s   (0.8%)\n",
       "====================================================="
      ]
     },
     "execution_count": 5,
     "metadata": {},
     "output_type": "execute_result"
    }
   ],
   "source": [
    "mset = ModelSettings(gpu=True, N=[2**9, 2**9, 2**7])\n",
    "grid = Grid(mset)\n",
    "model = Model(mset, grid)\n",
    "model.z = SingleWave(mset, grid)\n",
    "model.run(runlen=0.5)\n",
    "model.timer"
   ]
  }
 ],
 "metadata": {
  "kernelspec": {
   "display_name": "cupy",
   "language": "python",
   "name": "python3"
  },
  "language_info": {
   "codemirror_mode": {
    "name": "ipython",
    "version": 3
   },
   "file_extension": ".py",
   "mimetype": "text/x-python",
   "name": "python",
   "nbconvert_exporter": "python",
   "pygments_lexer": "ipython3",
   "version": "3.9.18"
  }
 },
 "nbformat": 4,
 "nbformat_minor": 2
}

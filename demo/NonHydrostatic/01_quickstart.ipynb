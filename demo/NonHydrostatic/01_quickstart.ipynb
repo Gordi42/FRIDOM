{
 "cells": [
  {
   "cell_type": "code",
   "execution_count": null,
   "metadata": {},
   "outputs": [],
   "source": [
    "import sys, os\n",
    "sys.path.append(os.path.abspath('../..'))\n",
    "import fridom.NonHydrostatic as fr"
   ]
  },
  {
   "cell_type": "markdown",
   "metadata": {},
   "source": [
    "# First Steps: Quickstart"
   ]
  },
  {
   "cell_type": "code",
   "execution_count": null,
   "metadata": {},
   "outputs": [],
   "source": [
    "mset = fr.ModelSettings(Ro=0.5)            # create model settings\n",
    "mset.N = [2**7, 2**7, 2**4]                # set resolution\n",
    "mset.L = [4, 4, 1]                         # set domain size \n",
    "grid = fr.Grid(mset)                       # create grid\n",
    "model = fr.Model(mset, grid)               # create model\n",
    "\n",
    "# set initial conditions\n",
    "model.z = fr.InitialConditions.BarotropicJet(mset, grid)     \n",
    "\n",
    "# plot top view of initial kinetic energy\n",
    "fr.Plot(model.z.ekin()).top(model.z)\n",
    "\n",
    "# run model\n",
    "model.run(runlen=2)\n",
    "\n",
    "# plot top view of final kinetic energy\n",
    "fr.Plot(model.z.ekin()).top(model.z)"
   ]
  },
  {
   "cell_type": "markdown",
   "metadata": {},
   "source": [
    "## Model Settings\n",
    "The model settings class is used to set the model paramters, for example physical parameters, such as the coriolis parameter, or numerical parameters, such as the resolution and the time step. A list of all model settings can be found in the documentation of the ModelSettings class (\"py_src/ModelSettings.py\"). Settings can be given as keyword arguments to the constructor or can modified later on:"
   ]
  },
  {
   "cell_type": "code",
   "execution_count": null,
   "metadata": {},
   "outputs": [],
   "source": [
    "# Modify Settings during the construction\n",
    "# Settings with Rossby number 0.1 and Brunt-Väisälä frequency 2\n",
    "mset = fr.ModelSettings(Ro=0.1, N0=2)\n",
    "\n",
    "# Modify Settings after the construction\n",
    "mset.N = [200, 200, 30]    # change resolution\n",
    "\n",
    "# print settings\n",
    "mset                       # alternatively: print(mset)"
   ]
  },
  {
   "cell_type": "markdown",
   "metadata": {},
   "source": [
    "## Grid\n",
    "The grid class stores meshgrids of the physical and spectral domain. It is constructed from the ModelSettings. When modifying the ModelSettings after creating the grid, the grid is not updated. The model needs it to solve for the pressure term. Further it is usefull for creating own custom initial conditions (See 02_state_and_field.ipynb)"
   ]
  },
  {
   "cell_type": "markdown",
   "metadata": {},
   "source": [
    "## Model\n",
    "The model consist of 4 prognostic variables (u,v,w,b) that are stored in the state variable z. And a diagnostic variable (p) that is computed from the prognostic variables. The state variable can be accessed with `model.z` and the diagnostic variable with `model.p`. (Note: the pressure can only be accessed but not modified.)"
   ]
  },
  {
   "cell_type": "code",
   "execution_count": null,
   "metadata": {},
   "outputs": [],
   "source": [
    "mset = fr.ModelSettings()              # create model settings\n",
    "mset.N = [100, 100, 20]\n",
    "mset.L = [4, 4, 1]\n",
    "mset.diag_interval = 200            # set diagnostic interval to 200\n",
    "mset.enable_diag = True             # enable diagnostics output\n",
    "mset.enable_tqdm = False            # disable progress bar\n",
    "\n",
    "grid = fr.Grid(mset)                   # create grid\n",
    "\n",
    "# create initial conditions\n",
    "z_ini = fr.InitialConditions.BarotropicJet(mset, grid)   \n",
    "\n",
    "model = fr.Model(mset, grid)           # create model\n",
    "model.z = z_ini.copy()              # set initial conditions\n",
    "\n",
    "# model runtime can either be specified in time steps or in seconds\n",
    "model.run(steps=1000)               # run model\n",
    "\n",
    "# get final state of model\n",
    "z_final = model.z\n",
    "p_final = model.p\n",
    "\n",
    "# print summary of timing information\n",
    "model.timer                       # alternatively: print(model.timer)"
   ]
  }
 ],
 "metadata": {
  "kernelspec": {
   "display_name": "cupy",
   "language": "python",
   "name": "python3"
  },
  "language_info": {
   "codemirror_mode": {
    "name": "ipython",
    "version": 3
   },
   "file_extension": ".py",
   "mimetype": "text/x-python",
   "name": "python",
   "nbconvert_exporter": "python",
   "pygments_lexer": "ipython3",
   "version": "3.9.18"
  },
  "orig_nbformat": 4
 },
 "nbformat": 4,
 "nbformat_minor": 2
}

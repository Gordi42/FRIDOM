{
 "cells": [
  {
   "cell_type": "code",
   "execution_count": null,
   "metadata": {},
   "outputs": [],
   "source": [
    "import sys, os\n",
    "sys.path.append(os.path.abspath('../..'))"
   ]
  },
  {
   "cell_type": "markdown",
   "metadata": {},
   "source": [
    "# Animations\n",
    "There are currently two different approaches implemented to make moving images of the simulation :\n",
    " - **Live Animation**: Shows the model state live during the simulation (doesn't create a video).\n",
    " - **Video Animation**: Adds a figure to a video every ... time step. "
   ]
  },
  {
   "cell_type": "code",
   "execution_count": null,
   "metadata": {},
   "outputs": [],
   "source": [
    "# load the modules\n",
    "from fridom.ShallowWater.ModelSettings import ModelSettings\n",
    "from fridom.ShallowWater.Grid import Grid\n",
    "from fridom.ShallowWater.InitialConditions import Random, SingleWave\n",
    "from fridom.ShallowWater.Model import Model\n",
    "from fridom.ShallowWater.Plot import Plot\n",
    "from fridom.ShallowWater.ModelPlotter import ModelPlotter"
   ]
  },
  {
   "cell_type": "markdown",
   "metadata": {},
   "source": [
    "## Live Animation\n",
    "To create a live animation we need to build a plotting class on top of the ModelPlotter class."
   ]
  },
  {
   "cell_type": "code",
   "execution_count": null,
   "metadata": {},
   "outputs": [],
   "source": [
    "# Define the plotter\n",
    "class MyPlotter(ModelPlotter):\n",
    "    def update_figure(fig, z, time, **kwargs):\n",
    "        # arguments must be (fig, z, time, **kwargs)\n",
    "        # Any figure properties can be updated here\n",
    "        Plot(z.h)(z, fig=fig, cmax=0.3, vmax=1.6)\n",
    "        fig.gca().set_title(f\"Random phase at t = {time:.3f}\")\n",
    "        return\n",
    "\n",
    "\n",
    "# Now build the model\n",
    "mset = ModelSettings(N=[256, 256])\n",
    "mset.enable_live_anim = True\n",
    "mset.live_plotter = MyPlotter\n",
    "mset.enable_tqdm = False        # is not compatible with live plotting\n",
    "grid = Grid(mset)\n",
    "model = Model(mset, grid)\n",
    "model.z = Random(mset, grid)\n",
    "model.run(runlen=2)"
   ]
  },
  {
   "cell_type": "markdown",
   "metadata": {},
   "source": [
    "## Video Animation\n",
    "The video animation works similar to the live animation, we can use the same plotter class or define a different one."
   ]
  },
  {
   "cell_type": "code",
   "execution_count": null,
   "metadata": {},
   "outputs": [],
   "source": [
    "mset = ModelSettings(N=[256, 256])\n",
    "mset.gpu = True\n",
    "mset.enable_vid_anim = True\n",
    "mset.vid_plotter = MyPlotter\n",
    "mset.vid_anim_interval = 20\n",
    "grid = Grid(mset)\n",
    "model = Model(mset, grid)\n",
    "model.z = Random(mset, grid)\n",
    "model.run(runlen=2.0)\n",
    "model.show_video()"
   ]
  }
 ],
 "metadata": {
  "kernelspec": {
   "display_name": "cupy",
   "language": "python",
   "name": "python3"
  },
  "language_info": {
   "codemirror_mode": {
    "name": "ipython",
    "version": 3
   },
   "file_extension": ".py",
   "mimetype": "text/x-python",
   "name": "python",
   "nbconvert_exporter": "python",
   "pygments_lexer": "ipython3",
   "version": "3.9.18"
  },
  "orig_nbformat": 4
 },
 "nbformat": 4,
 "nbformat_minor": 2
}

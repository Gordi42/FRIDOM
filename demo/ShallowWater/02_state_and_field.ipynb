{
 "cells": [
  {
   "cell_type": "code",
   "execution_count": null,
   "metadata": {},
   "outputs": [],
   "source": [
    "import sys, os\n",
    "sys.path.append(os.path.abspath('../..'))"
   ]
  },
  {
   "cell_type": "markdown",
   "metadata": {},
   "source": [
    "# State Vector and Field Variables\n",
    "\n",
    "The modular structure of the state vector and the field variables allows for an easy construction of own custom initial conditions and fast analysis of the results. All operations that are performed on a state vector will be performed on all indiviual components of it."
   ]
  },
  {
   "cell_type": "code",
   "execution_count": null,
   "metadata": {},
   "outputs": [],
   "source": [
    "# load modules\n",
    "from fridom.ShallowWater.ModelSettings import ModelSettings\n",
    "from fridom.ShallowWater.Grid import Grid\n",
    "from fridom.ShallowWater.InitialConditions import Jet, SingleWave\n",
    "from fridom.ShallowWater.State import State\n",
    "from fridom.ShallowWater.Eigenvectors import VecP, VecQ\n",
    "from fridom.ShallowWater.Plot import Plot"
   ]
  },
  {
   "cell_type": "markdown",
   "metadata": {},
   "source": [
    "## Constructing a State Vector"
   ]
  },
  {
   "cell_type": "code",
   "execution_count": null,
   "metadata": {},
   "outputs": [],
   "source": [
    "# create model settings and grid\n",
    "mset = ModelSettings()\n",
    "grid = Grid(mset)\n",
    "\n",
    "# construction from default constructor\n",
    "z_zero = State(mset, grid)\n",
    "\n",
    "# construction from Initial Conditions\n",
    "z_jet = Jet(mset, grid)\n",
    "z_wave = SingleWave(mset, grid)\n",
    "\n",
    "# making a copy\n",
    "z_jet_copy = z_jet.copy()\n",
    "\n",
    "print(\"Type of State Vector: \", type(z_zero))"
   ]
  },
  {
   "cell_type": "markdown",
   "metadata": {},
   "source": [
    "## Accessing the Field Variables"
   ]
  },
  {
   "cell_type": "code",
   "execution_count": null,
   "metadata": {},
   "outputs": [],
   "source": [
    "# access fields\n",
    "u_jet = z_jet.u\n",
    "v_jet = z_jet.v\n",
    "h_jet = z_jet.h\n",
    "\n",
    "print(\"Type of Field Variable: \", type(u_jet))"
   ]
  },
  {
   "cell_type": "markdown",
   "metadata": {},
   "source": [
    "## Supported operators\n",
    "Operators work component wise. For example, the sum of two states is the sum of each component (u,v,w,b) at each grid point."
   ]
  },
  {
   "cell_type": "code",
   "execution_count": null,
   "metadata": {},
   "outputs": [],
   "source": [
    "# between states\n",
    "z_sum  = z_jet + z_wave\n",
    "z_diff = z_jet - z_wave\n",
    "z_prod = z_jet * z_wave\n",
    "z_quot = z_jet / z_wave\n",
    "\n",
    "# between state and number\n",
    "z_sum  = z_jet + 1.0\n",
    "z_diff = z_jet - 1.0\n",
    "z_prod = z_jet * 1.0\n",
    "z_quot = z_jet / 1.0\n",
    "\n",
    "# times equal etc.\n",
    "z_jet *= 1.0                        # also works for two fields\n",
    "z_jet /= 1.0                        # also works for two fields\n",
    "z_jet += 1.0                        # also works for two fields\n",
    "z_jet -= 1.0                        # also works for two fields\n",
    "\n",
    "# fourier transform\n",
    "z_spectral = z_jet.fft()            # fourier transform to spectral\n",
    "z_physical = z_spectral.fft()       # fourier transform back to physical\n",
    "\n",
    "# All the above operators can also be applied on the fields:\n",
    "u_jet *= 1.0 \n",
    "u_jet_spectral = u_jet.fft()\n",
    "# ...\n",
    "\n",
    "# Additionally, array slicing is supported for fields\n",
    "u_jet[5:10] = 1.0\n",
    "\n",
    "# Note that this is not supported for states\n",
    "# the following would raise an error\n",
    "# z_jet[5:10] = 1.0"
   ]
  },
  {
   "cell_type": "markdown",
   "metadata": {},
   "source": [
    "## Other useful methods:"
   ]
  },
  {
   "cell_type": "code",
   "execution_count": null,
   "metadata": {},
   "outputs": [],
   "source": [
    "# get energy fields\n",
    "kinetic_energy   = z_jet.ekin()             # is a field variable\n",
    "potential_energy = z_jet.epot()             # is a field variable\n",
    "total_energy     = z_jet.etot()             # is a field variable\n",
    "\n",
    "# get mean energy\n",
    "print(\"Mean kinetic Energy  : \", z_jet.mean_ekin())\n",
    "print(\"Mean potential Energy: \", z_jet.mean_epot())\n",
    "print(\"Mean total Energy    : \", z_jet.mean_etot())\n",
    "\n",
    "# Get CFL number\n",
    "print(\"Maximum CFL number: \", z_jet.max_cfl())\n",
    "\n",
    "# Get l2 norm\n",
    "print(\"L2 norm: \", z_jet.norm_l2())\n",
    "\n",
    "# get dot product between two states (2nd state is complex conjugated)\n",
    "z1_dot_z2 = z_jet.dot(z_wave)              # is a field variable\n",
    "\n",
    "# get norm of difference between two states\n",
    "print(\"Norm of difference: \", z_jet.norm_of_diff(z_wave))"
   ]
  },
  {
   "cell_type": "markdown",
   "metadata": {},
   "source": [
    "## New Custom Initial Condition"
   ]
  },
  {
   "cell_type": "code",
   "execution_count": null,
   "metadata": {},
   "outputs": [],
   "source": [
    "class Gaussian(State):\n",
    "    \"\"\"\n",
    "    Initial condition with a gaussian velocity.\n",
    "    \"\"\"\n",
    "    def __init__(self, mset: ModelSettings, grid: Grid, \n",
    "                 x_loc=2.5, y_loc=1.5, radius=0.5) -> None:\n",
    "        \"\"\"\n",
    "        Constructor.\n",
    "\n",
    "        Args:\n",
    "            mset (ModelSettings): model settings\n",
    "            grid (Grid)         : grid\n",
    "            x_loc (float)       : x location of gaussian. \n",
    "            y_loc (float)       : y location of gaussian. \n",
    "        \"\"\"\n",
    "        super().__init__(mset, grid)\n",
    "\n",
    "        # get numpy or cupy module\n",
    "        cp = self.cp                     # is cupy if gpu is enabled\n",
    "\n",
    "        # get meshgrid\n",
    "        X, Y = tuple(self.grid.X)\n",
    "\n",
    "        # set gaussian velocity\n",
    "        self.u[:] = cp.exp(-((X - x_loc) / radius)**2) * \\\n",
    "                    cp.exp(-((Y - y_loc) / radius)**2)\n",
    "        return\n",
    "\n",
    "# create the gaussian state and plot it\n",
    "z_gauss = Gaussian(mset, grid)\n",
    "Plot(z_gauss.u)(z_gauss)\n"
   ]
  }
 ],
 "metadata": {
  "kernelspec": {
   "display_name": "cupy",
   "language": "python",
   "name": "python3"
  },
  "language_info": {
   "codemirror_mode": {
    "name": "ipython",
    "version": 3
   },
   "file_extension": ".py",
   "mimetype": "text/x-python",
   "name": "python",
   "nbconvert_exporter": "python",
   "pygments_lexer": "ipython3",
   "version": "3.9.18"
  },
  "orig_nbformat": 4
 },
 "nbformat": 4,
 "nbformat_minor": 2
}

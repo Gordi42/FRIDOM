{
 "cells": [
  {
   "cell_type": "code",
   "execution_count": null,
   "metadata": {},
   "outputs": [],
   "source": [
    "import sys, os\n",
    "sys.path.append(os.path.abspath('../..'))"
   ]
  },
  {
   "cell_type": "markdown",
   "metadata": {},
   "source": [
    "# Plotting Field Variables\n",
    "Field variables have a built-in plotting for quick visualization. For more advanced plotting, standard Python packages such as matplotlib can be used."
   ]
  },
  {
   "cell_type": "code",
   "execution_count": null,
   "metadata": {},
   "outputs": [],
   "source": [
    "# load modules\n",
    "from fridom.ShallowWater.ModelSettings import ModelSettings\n",
    "from fridom.ShallowWater.Grid import Grid\n",
    "from fridom.ShallowWater.InitialConditions import Jet, SingleWave\n",
    "from fridom.ShallowWater.Plot import Plot"
   ]
  },
  {
   "cell_type": "markdown",
   "metadata": {},
   "source": [
    "## The plot object\n",
    "A plot object can be created from any field variable by getting the `.plot` attribute. From the plot object, we can create section plots of the field variable, or a 3D interactive volume plot."
   ]
  },
  {
   "cell_type": "code",
   "execution_count": null,
   "metadata": {},
   "outputs": [],
   "source": [
    "# create a field to plot\n",
    "mset = ModelSettings(gpu=True, N=[256, 256])\n",
    "grid = Grid(mset)\n",
    "z_wave = SingleWave(mset, grid, kx=2, ky=3)\n",
    "\n",
    "# get a plot object of the height\n",
    "plot_height = Plot(z_wave.h)"
   ]
  },
  {
   "cell_type": "markdown",
   "metadata": {},
   "source": [
    "## Front Section"
   ]
  },
  {
   "cell_type": "code",
   "execution_count": null,
   "metadata": {},
   "outputs": [],
   "source": [
    "plot_height()\n",
    "# optional arguments:\n",
    "#   state: state vector to also plot the velocity field\n",
    "#   cmin : minimum value of the colormap\n",
    "#   cmax : maximum value of the colormap \n",
    "#   cmap : colormap (matplotlib colormaps)\n",
    "#   vmax : velocity of one arrow length unit\n",
    "#   fig  : matplotlib figure object to plot on"
   ]
  },
  {
   "cell_type": "markdown",
   "metadata": {},
   "source": [
    "The full plot can be done in one line:"
   ]
  },
  {
   "cell_type": "code",
   "execution_count": null,
   "metadata": {},
   "outputs": [],
   "source": [
    "Plot(z_wave.h)(state=z_wave)\n",
    "# same optional arguments as above (but x as the coordinate selection)"
   ]
  },
  {
   "cell_type": "markdown",
   "metadata": {},
   "source": [
    "Plot the kinetic energy of the Jet initial state\n"
   ]
  },
  {
   "cell_type": "code",
   "execution_count": null,
   "metadata": {},
   "outputs": [],
   "source": [
    "z_jet = Jet(mset, Grid(mset), geo_proj=True)\n",
    "Plot(z_jet.ekin())()\n",
    "# optional arguments the same as above"
   ]
  }
 ],
 "metadata": {
  "kernelspec": {
   "display_name": "cupy",
   "language": "python",
   "name": "python3"
  },
  "language_info": {
   "codemirror_mode": {
    "name": "ipython",
    "version": 3
   },
   "file_extension": ".py",
   "mimetype": "text/x-python",
   "name": "python",
   "nbconvert_exporter": "python",
   "pygments_lexer": "ipython3",
   "version": "3.9.18"
  },
  "orig_nbformat": 4
 },
 "nbformat": 4,
 "nbformat_minor": 2
}

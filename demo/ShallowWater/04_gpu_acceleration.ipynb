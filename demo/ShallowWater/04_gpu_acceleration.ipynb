{
 "cells": [
  {
   "cell_type": "code",
   "execution_count": 1,
   "metadata": {},
   "outputs": [],
   "source": [
    "import sys, os\n",
    "sys.path.append(os.path.abspath('../..'))"
   ]
  },
  {
   "cell_type": "markdown",
   "metadata": {},
   "source": [
    "# GPU Acceleration\n",
    "GPU Acceleration is turned on by default if cupy is installed. For instructions on how to install cupy, see the README.md file. It can be turned off in the Model Settings:"
   ]
  },
  {
   "cell_type": "code",
   "execution_count": 2,
   "metadata": {},
   "outputs": [],
   "source": [
    "# load modules\n",
    "from fridom.ShallowWater.ModelSettings import ModelSettings\n",
    "from fridom.ShallowWater.Grid import Grid\n",
    "from fridom.ShallowWater.Model import Model\n",
    "from fridom.ShallowWater.InitialConditions import SingleWave"
   ]
  },
  {
   "cell_type": "code",
   "execution_count": 4,
   "metadata": {},
   "outputs": [
    {
     "name": "stderr",
     "output_type": "stream",
     "text": [
      "  0%|          | 0/500 [00:00<?, ?it/s]"
     ]
    },
    {
     "name": "stderr",
     "output_type": "stream",
     "text": [
      "100%|██████████| 500/500 [00:02<00:00, 201.04it/s]\n"
     ]
    },
    {
     "data": {
      "text/plain": [
       "=====================================================\n",
       " Timing Summary: \n",
       "=====================================================\n",
       "Total Integration             : 00:00:02s   (100.0%)\n",
       "Diagnostics                   : 00:00:00s   (0.0%)\n",
       "Write Snapshot                : 00:00:00s   (0.0%)\n",
       "Live Plotting                 : 00:00:00s   (0.0%)\n",
       "Video Writer                  : 00:00:00s   (0.0%)\n",
       "Total Tendency                : 00:00:01s   (71.6%)\n",
       "Time Stepping                 : 00:00:00s   (27.2%)\n",
       "Linear Tendency               : 00:00:00s   (21.0%)\n",
       "Nonlinear Tendency            : 00:00:01s   (50.4%)\n",
       "Harmonic Tendency             : 00:00:00s   (0.0%)\n",
       "Biharmonic Tendency           : 00:00:00s   (0.0%)\n",
       "Source Tendency               : 00:00:00s   (0.0%)\n",
       "====================================================="
      ]
     },
     "execution_count": 4,
     "metadata": {},
     "output_type": "execute_result"
    }
   ],
   "source": [
    "# turning off GPU acceleration:\n",
    "mset = ModelSettings(gpu=False, N=[256, 256])\n",
    "grid = Grid(mset)\n",
    "model = Model(mset, grid)\n",
    "model.z = SingleWave(mset, grid)\n",
    "model.run(runlen=1)\n",
    "model.timer"
   ]
  },
  {
   "cell_type": "code",
   "execution_count": 6,
   "metadata": {},
   "outputs": [
    {
     "name": "stderr",
     "output_type": "stream",
     "text": [
      "100%|██████████| 500/500 [00:02<00:00, 225.13it/s]\n"
     ]
    },
    {
     "data": {
      "text/plain": [
       "=====================================================\n",
       " Timing Summary: \n",
       "=====================================================\n",
       "Total Integration             : 00:00:02s   (100.0%)\n",
       "Diagnostics                   : 00:00:00s   (0.0%)\n",
       "Write Snapshot                : 00:00:00s   (0.0%)\n",
       "Live Plotting                 : 00:00:00s   (0.0%)\n",
       "Video Writer                  : 00:00:00s   (0.0%)\n",
       "Total Tendency                : 00:00:01s   (70.7%)\n",
       "Time Stepping                 : 00:00:00s   (27.9%)\n",
       "Linear Tendency               : 00:00:00s   (25.3%)\n",
       "Nonlinear Tendency            : 00:00:01s   (45.1%)\n",
       "Harmonic Tendency             : 00:00:00s   (0.0%)\n",
       "Biharmonic Tendency           : 00:00:00s   (0.0%)\n",
       "Source Tendency               : 00:00:00s   (0.0%)\n",
       "====================================================="
      ]
     },
     "execution_count": 6,
     "metadata": {},
     "output_type": "execute_result"
    }
   ],
   "source": [
    "# For comparison, here is the same code with GPU acceleration:\n",
    "mset = ModelSettings(gpu=True, N=[256, 256])\n",
    "grid = Grid(mset)\n",
    "model = Model(mset, grid)\n",
    "model.z = SingleWave(mset, grid)\n",
    "model.run(runlen=1)\n",
    "model.timer"
   ]
  },
  {
   "cell_type": "markdown",
   "metadata": {},
   "source": [
    "In this example, the code with gpu acceleration is not faster then without. The advantage of gpu accelaration becomes visible at much larger Resolution, consider for example the same code as before but with a resolution of 2048x2048:"
   ]
  },
  {
   "cell_type": "code",
   "execution_count": 14,
   "metadata": {},
   "outputs": [
    {
     "name": "stderr",
     "output_type": "stream",
     "text": [
      "  0%|          | 0/1000 [00:00<?, ?it/s]"
     ]
    },
    {
     "name": "stderr",
     "output_type": "stream",
     "text": [
      "100%|██████████| 1000/1000 [00:08<00:00, 124.32it/s]\n"
     ]
    },
    {
     "data": {
      "text/plain": [
       "=====================================================\n",
       " Timing Summary: \n",
       "=====================================================\n",
       "Total Integration             : 00:00:08s   (100.0%)\n",
       "Diagnostics                   : 00:00:00s   (0.0%)\n",
       "Write Snapshot                : 00:00:00s   (0.0%)\n",
       "Live Plotting                 : 00:00:00s   (0.0%)\n",
       "Video Writer                  : 00:00:00s   (0.0%)\n",
       "Total Tendency                : 00:00:05s   (68.1%)\n",
       "Time Stepping                 : 00:00:02s   (31.0%)\n",
       "Linear Tendency               : 00:00:01s   (18.6%)\n",
       "Nonlinear Tendency            : 00:00:03s   (49.4%)\n",
       "Harmonic Tendency             : 00:00:00s   (0.0%)\n",
       "Biharmonic Tendency           : 00:00:00s   (0.0%)\n",
       "Source Tendency               : 00:00:00s   (0.0%)\n",
       "====================================================="
      ]
     },
     "execution_count": 14,
     "metadata": {},
     "output_type": "execute_result"
    }
   ],
   "source": [
    "mset = ModelSettings(gpu=True, N=[2**11, 2**11], dt=2**-11)\n",
    "grid = Grid(mset)\n",
    "model = Model(mset, grid)\n",
    "model.z = SingleWave(mset, grid)\n",
    "model.run(steps=1000)\n",
    "model.timer"
   ]
  }
 ],
 "metadata": {
  "kernelspec": {
   "display_name": "cupy",
   "language": "python",
   "name": "python3"
  },
  "language_info": {
   "codemirror_mode": {
    "name": "ipython",
    "version": 3
   },
   "file_extension": ".py",
   "mimetype": "text/x-python",
   "name": "python",
   "nbconvert_exporter": "python",
   "pygments_lexer": "ipython3",
   "version": "3.9.18"
  }
 },
 "nbformat": 4,
 "nbformat_minor": 2
}

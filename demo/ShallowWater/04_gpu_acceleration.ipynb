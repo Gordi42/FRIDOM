{
 "cells": [
  {
   "cell_type": "code",
   "execution_count": 1,
   "metadata": {},
   "outputs": [],
   "source": [
    "import sys, os\n",
    "sys.path.append(os.path.abspath('../..'))\n",
    "import fridom.ShallowWater as sw"
   ]
  },
  {
   "cell_type": "markdown",
   "metadata": {},
   "source": [
    "# GPU Acceleration\n",
    "GPU Acceleration is turned on by default if cupy is installed. For instructions on how to install cupy, see the README.md file. It can be turned off in the Model Settings:"
   ]
  },
  {
   "cell_type": "code",
   "execution_count": 2,
   "metadata": {},
   "outputs": [
    {
     "name": "stderr",
     "output_type": "stream",
     "text": [
      "100%|██████████| 500/500 [00:02<00:00, 235.43it/s]\n"
     ]
    },
    {
     "data": {
      "text/plain": [
       "=====================================================\n",
       " Timing Summary: \n",
       "=====================================================\n",
       "Total Integration             : 00:00:02s   (100.0%)\n",
       "Diagnostics                   : 00:00:00s   (0.0%)\n",
       "Write Snapshot                : 00:00:00s   (0.0%)\n",
       "Live Plotting                 : 00:00:00s   (0.0%)\n",
       "Video Writer                  : 00:00:00s   (0.0%)\n",
       "Total Tendency                : 00:00:01s   (71.1%)\n",
       "Time Stepping                 : 00:00:00s   (27.3%)\n",
       "Linear Tendency               : 00:00:00s   (22.5%)\n",
       "Nonlinear Tendency            : 00:00:01s   (48.2%)\n",
       "Harmonic Tendency             : 00:00:00s   (0.0%)\n",
       "Biharmonic Tendency           : 00:00:00s   (0.0%)\n",
       "Source Tendency               : 00:00:00s   (0.0%)\n",
       "====================================================="
      ]
     },
     "execution_count": 2,
     "metadata": {},
     "output_type": "execute_result"
    }
   ],
   "source": [
    "# turning off GPU acceleration:\n",
    "mset = sw.ModelSettings(gpu=False, N=[255, 255])\n",
    "grid = sw.Grid(mset)\n",
    "model = sw.Model(mset, grid)\n",
    "model.z = sw.InitialConditions.SingleWave(mset, grid)\n",
    "model.run(runlen=1)\n",
    "model.timer"
   ]
  },
  {
   "cell_type": "code",
   "execution_count": 4,
   "metadata": {},
   "outputs": [
    {
     "name": "stderr",
     "output_type": "stream",
     "text": [
      "  0%|          | 0/500 [00:00<?, ?it/s]"
     ]
    },
    {
     "name": "stderr",
     "output_type": "stream",
     "text": [
      "100%|██████████| 500/500 [00:02<00:00, 234.86it/s]\n"
     ]
    },
    {
     "data": {
      "text/plain": [
       "=====================================================\n",
       " Timing Summary: \n",
       "=====================================================\n",
       "Total Integration             : 00:00:02s   (100.0%)\n",
       "Diagnostics                   : 00:00:00s   (0.0%)\n",
       "Write Snapshot                : 00:00:00s   (0.0%)\n",
       "Live Plotting                 : 00:00:00s   (0.0%)\n",
       "Video Writer                  : 00:00:00s   (0.0%)\n",
       "Total Tendency                : 00:00:01s   (69.9%)\n",
       "Time Stepping                 : 00:00:00s   (27.8%)\n",
       "Linear Tendency               : 00:00:00s   (25.6%)\n",
       "Nonlinear Tendency            : 00:00:00s   (44.0%)\n",
       "Harmonic Tendency             : 00:00:00s   (0.0%)\n",
       "Biharmonic Tendency           : 00:00:00s   (0.0%)\n",
       "Source Tendency               : 00:00:00s   (0.0%)\n",
       "====================================================="
      ]
     },
     "execution_count": 4,
     "metadata": {},
     "output_type": "execute_result"
    }
   ],
   "source": [
    "# For comparison, here is the same code with GPU acceleration:\n",
    "mset = sw.ModelSettings(gpu=True, N=[255, 255])\n",
    "grid = sw.Grid(mset)\n",
    "model = sw.Model(mset, grid)\n",
    "model.z = sw.InitialConditions.SingleWave(mset, grid)\n",
    "model.run(runlen=1)\n",
    "model.timer"
   ]
  },
  {
   "cell_type": "markdown",
   "metadata": {},
   "source": [
    "In this example, the code with gpu acceleration is not faster then without. The advantage of gpu accelaration becomes visible at much larger Resolution, consider for example the same code as before but with a resolution of 2048x2048:"
   ]
  },
  {
   "cell_type": "code",
   "execution_count": 5,
   "metadata": {},
   "outputs": [
    {
     "name": "stderr",
     "output_type": "stream",
     "text": [
      "100%|██████████| 1000/1000 [00:07<00:00, 131.99it/s]\n"
     ]
    },
    {
     "data": {
      "text/plain": [
       "=====================================================\n",
       " Timing Summary: \n",
       "=====================================================\n",
       "Total Integration             : 00:00:07s   (100.0%)\n",
       "Diagnostics                   : 00:00:00s   (0.0%)\n",
       "Write Snapshot                : 00:00:00s   (0.0%)\n",
       "Live Plotting                 : 00:00:00s   (0.0%)\n",
       "Video Writer                  : 00:00:00s   (0.0%)\n",
       "Total Tendency                : 00:00:04s   (62.1%)\n",
       "Time Stepping                 : 00:00:02s   (36.1%)\n",
       "Linear Tendency               : 00:00:02s   (30.3%)\n",
       "Nonlinear Tendency            : 00:00:02s   (31.6%)\n",
       "Harmonic Tendency             : 00:00:00s   (0.0%)\n",
       "Biharmonic Tendency           : 00:00:00s   (0.0%)\n",
       "Source Tendency               : 00:00:00s   (0.0%)\n",
       "====================================================="
      ]
     },
     "execution_count": 5,
     "metadata": {},
     "output_type": "execute_result"
    }
   ],
   "source": [
    "mset = sw.ModelSettings(gpu=True, N=[2**11-1, 2**11-1], dt=2**-11)\n",
    "grid = sw.Grid(mset)\n",
    "model = sw.Model(mset, grid)\n",
    "model.z = sw.InitialConditions.SingleWave(mset, grid)\n",
    "model.run(steps=1000)\n",
    "model.timer"
   ]
  },
  {
   "cell_type": "markdown",
   "metadata": {},
   "source": [
    "# Benchmarking single GPU vs single CPU"
   ]
  },
  {
   "cell_type": "code",
   "execution_count": 6,
   "metadata": {},
   "outputs": [
    {
     "name": "stderr",
     "output_type": "stream",
     "text": [
      "  0%|          | 0/31 [00:00<?, ?it/s]"
     ]
    },
    {
     "name": "stderr",
     "output_type": "stream",
     "text": [
      "100%|██████████| 31/31 [00:00<00:00, 235.94it/s]\n",
      "100%|██████████| 63/63 [00:00<00:00, 235.94it/s]\n",
      "100%|██████████| 127/127 [00:00<00:00, 238.27it/s]\n",
      "100%|██████████| 255/255 [00:01<00:00, 237.04it/s]\n",
      "100%|██████████| 511/511 [00:02<00:00, 236.70it/s]\n",
      "100%|██████████| 1023/1023 [00:04<00:00, 235.66it/s]\n",
      "100%|██████████| 31/31 [00:00<00:00, 1601.53it/s]\n",
      "100%|██████████| 63/63 [00:00<00:00, 1260.31it/s]\n",
      "100%|██████████| 127/127 [00:00<00:00, 641.09it/s]\n",
      "100%|██████████| 255/255 [00:01<00:00, 222.65it/s]\n",
      "100%|██████████| 511/511 [00:08<00:00, 59.78it/s]\n",
      "100%|██████████| 1023/1023 [01:54<00:00,  8.97it/s]\n"
     ]
    },
    {
     "data": {
      "text/plain": [
       "<matplotlib.legend.Legend at 0x7fff97d77c70>"
      ]
     },
     "execution_count": 6,
     "metadata": {},
     "output_type": "execute_result"
    },
    {
     "data": {
      "image/png": "[encoded data removed]",
      "text/plain": [
       "<Figure size 640x480 with 1 Axes>"
      ]
     },
     "metadata": {},
     "output_type": "display_data"
    }
   ],
   "source": [
    "import time\n",
    "import matplotlib.pyplot as plt\n",
    "\n",
    "def model_time(res, gpu):\n",
    "    mset = sw.ModelSettings(N=[res, res], dt=1/res, gpu=gpu)\n",
    "    grid = sw.Grid(mset)\n",
    "    m = sw.Model(mset, grid)\n",
    "    m.z = sw.InitialConditions.SingleWave(mset, grid)\n",
    "    start_time = time.time()\n",
    "    m.run(runlen=1)\n",
    "    return time.time() - start_time\n",
    "\n",
    "resolutions = [2**i-1 for i in range(5, 11)]\n",
    "gpu_times = [model_time(res, True) for res in resolutions]\n",
    "cpu_times = [model_time(res, False) for res in resolutions]\n",
    "\n",
    "plt.plot(resolutions, gpu_times, label=\"GPU\", marker=\"s\")\n",
    "plt.plot(resolutions, cpu_times, label=\"CPU\", marker=\"s\")\n",
    "plt.xlabel(\"Resolution\")\n",
    "plt.ylabel(\"Time (s)\")\n",
    "plt.xscale(\"log\")\n",
    "plt.yscale(\"log\")\n",
    "plt.xticks(resolutions, resolutions)\n",
    "plt.legend()"
   ]
  }
 ],
 "metadata": {
  "kernelspec": {
   "display_name": "cupy",
   "language": "python",
   "name": "python3"
  },
  "language_info": {
   "codemirror_mode": {
    "name": "ipython",
    "version": 3
   },
   "file_extension": ".py",
   "mimetype": "text/x-python",
   "name": "python",
   "nbconvert_exporter": "python",
   "pygments_lexer": "ipython3",
   "version": "3.9.18"
  }
 },
 "nbformat": 4,
 "nbformat_minor": 2
}

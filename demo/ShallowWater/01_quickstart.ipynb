{
 "cells": [
  {
   "cell_type": "code",
   "execution_count": null,
   "metadata": {},
   "outputs": [],
   "source": [
    "import sys, os\n",
    "sys.path.append(os.path.abspath('../..'))"
   ]
  },
  {
   "cell_type": "markdown",
   "metadata": {},
   "source": [
    "# First Steps: Quickstart"
   ]
  },
  {
   "cell_type": "code",
   "execution_count": null,
   "metadata": {},
   "outputs": [],
   "source": [
    "# load modules\n",
    "from fridom.ShallowWater.ModelSettings import ModelSettings\n",
    "from fridom.ShallowWater.Grid import Grid\n",
    "from fridom.ShallowWater.InitialConditions import Jet\n",
    "from fridom.ShallowWater.Model import Model\n",
    "from fridom.ShallowWater.Plot import Plot"
   ]
  },
  {
   "cell_type": "code",
   "execution_count": null,
   "metadata": {},
   "outputs": [],
   "source": [
    "mset = ModelSettings(\n",
    "    Ro=0.5, N=[512,512], L=[6,6])       # create model settings\n",
    "grid = Grid(mset)                       # create grid\n",
    "model = Model(mset, grid)               # create model\n",
    "model.z = Jet(mset, grid)               # set initial conditions\n",
    "\n",
    "# plot top view of initial kinetic energy\n",
    "Plot(model.z.ekin())(model.z)\n",
    "\n",
    "# run model\n",
    "model.run(runlen=5)\n",
    "\n",
    "# plot top view of final kinetic energy\n",
    "Plot(model.z.ekin())(model.z)"
   ]
  },
  {
   "cell_type": "markdown",
   "metadata": {},
   "source": [
    "## Model Settings\n",
    "The model settings class is used to set the model paramters, for example physical parameters, such as the coriolis parameter, or numerical parameters, such as the resolution and the time step. A list of all model settings can be found in the documentation of the ModelSettings class (\"py_src/ModelSettings.py\"). Settings can be given as keyword arguments to the constructor or can modified later on:"
   ]
  },
  {
   "cell_type": "code",
   "execution_count": null,
   "metadata": {},
   "outputs": [],
   "source": [
    "# Modify Settings during the construction\n",
    "# Settings with Rossby number 0.1 and Burger Number 2\n",
    "mset = ModelSettings(Ro=0.1, csqr=2)\n",
    "\n",
    "# Modify Settings after the construction\n",
    "mset.N = [200, 200]    # change resolution\n",
    "\n",
    "# print settings\n",
    "mset                       # alternatively: print(mset)"
   ]
  },
  {
   "cell_type": "markdown",
   "metadata": {},
   "source": [
    "## Model\n",
    "The model consist of 3 prognostic variables (u,v,h) that are stored in the state variable z. The state variable can be accessed with `model.z`."
   ]
  },
  {
   "cell_type": "code",
   "execution_count": null,
   "metadata": {},
   "outputs": [],
   "source": [
    "mset = ModelSettings()              # create model settings\n",
    "mset.N = [100, 100]\n",
    "mset.L = [4, 4]\n",
    "mset.diag_interval = 200            # set diagnostic interval to 200\n",
    "mset.enable_diag = True             # enable diagnostics output\n",
    "mset.enable_tqdm = False            # disable progress bar\n",
    "\n",
    "grid = Grid(mset)                   # create grid\n",
    "\n",
    "z_ini = Jet(mset, grid)   # create initial conditions\n",
    "\n",
    "model = Model(mset, grid)           # create model\n",
    "model.z = z_ini.copy()              # set initial conditions\n",
    "\n",
    "# model runtime can either be specified in time steps or in seconds\n",
    "model.run(steps=1000)               # run model\n",
    "\n",
    "# get final state of model\n",
    "z_final = model.z\n",
    "\n",
    "# print summary of timing information\n",
    "model.timer                       # alternatively: print(model.timer)"
   ]
  }
 ],
 "metadata": {
  "kernelspec": {
   "display_name": "cupy",
   "language": "python",
   "name": "python3"
  },
  "language_info": {
   "codemirror_mode": {
    "name": "ipython",
    "version": 3
   },
   "file_extension": ".py",
   "mimetype": "text/x-python",
   "name": "python",
   "nbconvert_exporter": "python",
   "pygments_lexer": "ipython3",
   "version": "3.9.18"
  },
  "orig_nbformat": 4
 },
 "nbformat": 4,
 "nbformat_minor": 2
}

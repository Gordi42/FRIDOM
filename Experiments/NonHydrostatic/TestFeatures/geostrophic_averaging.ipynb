{
 "cells": [
  {
   "cell_type": "code",
   "execution_count": 1,
   "metadata": {},
   "outputs": [],
   "source": [
    "import sys\n",
    "sys.path.append(\"../../..\")\n",
    "\n",
    "from fridom.NonHydrostatic.ModelSettings import ModelSettings\n",
    "from fridom.NonHydrostatic.Grid import Grid\n",
    "from fridom.NonHydrostatic.InitialConditions import Jet\n",
    "from fridom.NonHydrostatic.Projection import GeostrophicSpectral, GeostrophicTimeAverage\n",
    "from fridom.NonHydrostatic.DiagnoseImbalance import DiagnoseImbalance"
   ]
  },
  {
   "cell_type": "markdown",
   "metadata": {},
   "source": [
    "## Short Averaging"
   ]
  },
  {
   "cell_type": "code",
   "execution_count": 4,
   "metadata": {},
   "outputs": [
    {
     "name": "stdout",
     "output_type": "stream",
     "text": [
      "Starting time averaging\n",
      "Averaging forward for 6.28 seconds\n",
      "Averaging forward for 4.71 seconds\n",
      "Exact Error: 5.838e-04\n",
      "Running initial projection\n",
      "Running model for 1 seconds\n"
     ]
    },
    {
     "name": "stderr",
     "output_type": "stream",
     "text": [
      "100%|██████████| 500/500 [00:02<00:00, 204.83it/s]\n"
     ]
    },
    {
     "name": "stdout",
     "output_type": "stream",
     "text": [
      "Running final projection\n",
      "Calculating imbalance\n",
      "Imbalance spectral: 7.347e-28\n",
      "Running initial projection\n",
      "Starting time averaging\n",
      "Averaging forward for 6.28 seconds\n",
      "Averaging forward for 4.71 seconds\n",
      "Running model for 1 seconds\n"
     ]
    },
    {
     "name": "stderr",
     "output_type": "stream",
     "text": [
      "100%|██████████| 500/500 [00:02<00:00, 206.44it/s]\n"
     ]
    },
    {
     "name": "stdout",
     "output_type": "stream",
     "text": [
      "Running final projection\n",
      "Starting time averaging\n",
      "Averaging forward for 6.28 seconds\n",
      "Averaging forward for 4.71 seconds\n",
      "Calculating imbalance\n",
      "Imbalance time average: 5.869e-04\n"
     ]
    }
   ],
   "source": [
    "mset = ModelSettings(N=[2**7, 2**7, 2**5], L=[4,4,1], enable_verbose=True)\n",
    "mset.enable_nonlinear = False\n",
    "grid = Grid(mset)\n",
    "z = Jet(mset, grid, geo_proj=False)\n",
    "geo_spe = GeostrophicSpectral(mset, grid)\n",
    "geo_ave = GeostrophicTimeAverage(mset, grid, n_ave=2)\n",
    "\n",
    "z_spe = geo_spe(z)\n",
    "z_ave = geo_ave(z)\n",
    "print(f\"Exact Error: {z_spe.norm_of_diff(z_ave):.3e}\")\n",
    "\n",
    "diag = DiagnoseImbalance(mset, grid, diag_per=1, proj=geo_spe)\n",
    "print(f\"Imbalance spectral: {diag(z):.3e}\")\n",
    "\n",
    "diag = DiagnoseImbalance(mset, grid, diag_per=1, proj=geo_ave)\n",
    "print(f\"Imbalance time average: {diag(z):.3e}\")"
   ]
  },
  {
   "cell_type": "markdown",
   "metadata": {},
   "source": [
    "## Long Averaging"
   ]
  },
  {
   "cell_type": "code",
   "execution_count": 6,
   "metadata": {},
   "outputs": [
    {
     "name": "stdout",
     "output_type": "stream",
     "text": [
      "Starting time averaging\n",
      "Averaging forward for 6.28 seconds\n",
      "Averaging backwards for 6.28 seconds\n",
      "Averaging forward for 5.66 seconds\n",
      "Averaging backwards for 5.66 seconds\n",
      "Averaging forward for 5.03 seconds\n",
      "Averaging backwards for 5.03 seconds\n",
      "Averaging forward for 4.40 seconds\n",
      "Averaging backwards for 4.40 seconds\n",
      "Averaging forward for 3.77 seconds\n",
      "Averaging backwards for 3.77 seconds\n",
      "Exact Error: 3.104e-17\n",
      "Running initial projection\n",
      "Running model for 1 seconds\n"
     ]
    },
    {
     "name": "stderr",
     "output_type": "stream",
     "text": [
      "100%|██████████| 500/500 [00:02<00:00, 199.94it/s]\n"
     ]
    },
    {
     "name": "stdout",
     "output_type": "stream",
     "text": [
      "Running final projection\n",
      "Calculating imbalance\n",
      "Imbalance spectral: 7.347e-28\n",
      "Running initial projection\n",
      "Starting time averaging\n",
      "Averaging forward for 6.28 seconds\n",
      "Averaging backwards for 6.28 seconds\n",
      "Averaging forward for 5.66 seconds\n",
      "Averaging backwards for 5.66 seconds\n",
      "Averaging forward for 5.03 seconds\n",
      "Averaging backwards for 5.03 seconds\n",
      "Averaging forward for 4.40 seconds\n",
      "Averaging backwards for 4.40 seconds\n",
      "Averaging forward for 3.77 seconds\n",
      "Averaging backwards for 3.77 seconds\n",
      "Running model for 1 seconds\n"
     ]
    },
    {
     "name": "stderr",
     "output_type": "stream",
     "text": [
      "100%|██████████| 500/500 [00:02<00:00, 205.20it/s]\n"
     ]
    },
    {
     "name": "stdout",
     "output_type": "stream",
     "text": [
      "Running final projection\n",
      "Starting time averaging\n",
      "Averaging forward for 6.28 seconds\n",
      "Averaging backwards for 6.28 seconds\n",
      "Averaging forward for 5.66 seconds\n",
      "Averaging backwards for 5.66 seconds\n",
      "Averaging forward for 5.03 seconds\n",
      "Averaging backwards for 5.03 seconds\n",
      "Averaging forward for 4.40 seconds\n",
      "Averaging backwards for 4.40 seconds\n",
      "Averaging forward for 3.77 seconds\n",
      "Averaging backwards for 3.77 seconds\n",
      "Calculating imbalance\n",
      "Imbalance time average: 3.394e-17\n"
     ]
    }
   ],
   "source": [
    "z = Jet(mset, grid, geo_proj=False)\n",
    "geo_spe = GeostrophicSpectral(mset, grid)\n",
    "geo_ave = GeostrophicTimeAverage(mset, grid, n_ave=5, backward_forward=True)\n",
    "\n",
    "z_spe = geo_spe(z)\n",
    "z_ave = geo_ave(z)\n",
    "print(f\"Exact Error: {z_spe.norm_of_diff(z_ave):.3e}\")\n",
    "\n",
    "diag = DiagnoseImbalance(mset, grid, diag_per=1, proj=geo_spe)\n",
    "print(f\"Imbalance spectral: {diag(z):.3e}\")\n",
    "\n",
    "diag = DiagnoseImbalance(mset, grid, diag_per=1, proj=geo_ave)\n",
    "print(f\"Imbalance time average: {diag(z):.3e}\")"
   ]
  }
 ],
 "metadata": {
  "kernelspec": {
   "display_name": "fidom",
   "language": "python",
   "name": "python3"
  },
  "language_info": {
   "codemirror_mode": {
    "name": "ipython",
    "version": 3
   },
   "file_extension": ".py",
   "mimetype": "text/x-python",
   "name": "python",
   "nbconvert_exporter": "python",
   "pygments_lexer": "ipython3",
   "version": "3.9.18"
  }
 },
 "nbformat": 4,
 "nbformat_minor": 2
}
